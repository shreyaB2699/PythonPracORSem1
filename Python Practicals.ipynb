{
 "cells": [
  {
   "cell_type": "markdown",
   "metadata": {},
   "source": [
    "Question 1 - Write a program to enter name and display as “Hello, Name”."
   ]
  },
  {
   "cell_type": "code",
   "execution_count": 1,
   "metadata": {},
   "outputs": [
    {
     "name": "stdout",
     "output_type": "stream",
     "text": [
      "Enter your name - Shreya\n",
      "Hello, Shreya\n"
     ]
    }
   ],
   "source": [
    "name = input('Enter your name - ')\n",
    "print(\"Hello,\",name)"
   ]
  },
  {
   "cell_type": "markdown",
   "metadata": {},
   "source": [
    "Question 2 - Write a menu driven program to enter two numbers and print the arithmetic operations like <br>\n",
    "a. + <br>\n",
    "b. – <br>\n",
    "c. * <br>\n",
    "d. / <br>\n",
    "e. // <br>\n",
    "f. %.<br>"
   ]
  },
  {
   "cell_type": "code",
   "execution_count": 2,
   "metadata": {},
   "outputs": [
    {
     "name": "stdout",
     "output_type": "stream",
     "text": [
      "***Welcome to Arithmetic Calculator***\n",
      "Enter value of a - 10\n",
      "Enter value of b - 20\n",
      "a. +\n",
      "b. -\n",
      "c. *\n",
      "d. /\n",
      "e. //\n",
      "f. %\n",
      "Enter index of operator - a\n",
      "The sum is = 30\n",
      "Do you want to choose another operator? y/n = y\n",
      "a. +\n",
      "b. -\n",
      "c. *\n",
      "d. /\n",
      "e. //\n",
      "f. %\n",
      "Enter index of operator - -\n",
      "Incorrect option entered!\n",
      "Do you want to choose another operator? y/n = y\n",
      "a. +\n",
      "b. -\n",
      "c. *\n",
      "d. /\n",
      "e. //\n",
      "f. %\n",
      "Enter index of operator - b\n",
      "The difference is = 10\n",
      "Do you want to choose another operator? y/n = n\n",
      "Do you want to change input? y/n = n\n",
      "***Thankyou for using***\n"
     ]
    }
   ],
   "source": [
    "#functions for arithmetic\n",
    "\n",
    "def add(a,b):\n",
    "    print('The sum is =',a+b)\n",
    "\n",
    "def sub(a,b):\n",
    "    print('The difference is =',abs(a-b))\n",
    "\n",
    "def mul(a,b):\n",
    "    print('The product is =',a*b)\n",
    "\n",
    "def div(a,b):\n",
    "    print('The divison\\'s answer is =',a/b)\n",
    "\n",
    "def floor(a,b):\n",
    "    print('The floor division quotient is =',a//b)\n",
    "\n",
    "def rem(a,b):\n",
    "    print('The remainder is =',a%b)\n",
    "\n",
    "#menu\n",
    "ch = 'y'\n",
    "while(ch=='y' or ch=='Y'):\n",
    "    print('***Welcome to Arithmetic Calculator***')\n",
    "    a=input(\"Enter value of a - \")\n",
    "    b=input(\"Enter value of b - \")\n",
    "    a,b=int(a),int(b)\n",
    "    ch1='y'\n",
    "    while(ch1=='y' or ch1=='Y'):\n",
    "        print('a. +')\n",
    "        print('b. -')\n",
    "        print('c. *')\n",
    "        print('d. /')\n",
    "        print('e. //')\n",
    "        print('f. %')\n",
    "        op=input(\"Enter index of operator - \")\n",
    "        if op=='a' or op=='A':\n",
    "            add(a,b)\n",
    "        elif op=='b' or op=='B':\n",
    "            sub(a,b)\n",
    "        elif op=='c' or op=='C':\n",
    "            mul(a,b)\n",
    "        elif op=='d' or op=='D':\n",
    "            div(a,b)\n",
    "        elif op=='e' or op=='E':\n",
    "            floor(a,b)\n",
    "        elif op=='f' or op=='F':\n",
    "            rem(a,b)\n",
    "        else:\n",
    "            print('Incorrect option entered!')\n",
    "        ch1=input('Do you want to choose another operator? y/n = ')\n",
    "    ch=input('Do you want to change input? y/n = ')\n",
    "print('***Thankyou for using***')"
   ]
  },
  {
   "cell_type": "markdown",
   "metadata": {},
   "source": [
    "Question 3 - Write a program to compute the roots of a quadratic equation."
   ]
  },
  {
   "cell_type": "code",
   "execution_count": 3,
   "metadata": {},
   "outputs": [
    {
     "name": "stdout",
     "output_type": "stream",
     "text": [
      "***Welcome to program***\n",
      "The general form of quadratic equation is ax^2 + bx + c\n",
      "Enter value of a = 1\n",
      "Enter value of b = 3\n",
      "Enter value of c = 6\n",
      "The value of square roots of the given equation is = ((-1.5+1.9364916731037085j), (-1.5-1.9364916731037085j))\n"
     ]
    }
   ],
   "source": [
    "import cmath\n",
    "#function to compute roots\n",
    "def roots(a,b,c):\n",
    "    d=cmath.sqrt((b*b)-(4*a*c)) #using math.sqrt() will give error for values less than 0\n",
    "    root1=(d-b)/(2*a)\n",
    "    root2=-(d+b)/(2*a)\n",
    "    return root1,root2\n",
    "\n",
    "#asking for input\n",
    "print(\"***Welcome to program***\")\n",
    "print('The general form of quadratic equation is ax^2 + bx + c')\n",
    "a=input(\"Enter value of a = \")\n",
    "b=input(\"Enter value of b = \")\n",
    "c=input(\"Enter value of c = \")\n",
    "root_val=roots(float(a),float(b),float(c)) #changing to float\n",
    "print(\"The value of square roots of the given equation is =\",root_val)"
   ]
  },
  {
   "cell_type": "markdown",
   "metadata": {},
   "source": [
    "Question 4 - Write a menu driven Program to reverse the entered numbers and print the sum of digits entered."
   ]
  },
  {
   "cell_type": "code",
   "execution_count": 4,
   "metadata": {},
   "outputs": [
    {
     "name": "stdout",
     "output_type": "stream",
     "text": [
      "Enter the number = 123456\n",
      "The reversed number is = 654321\n",
      "The sum of digits is = 21\n"
     ]
    }
   ],
   "source": [
    "n=input('Enter the number = ') #inputting number\n",
    "print('The reversed number is =',n[::-1]) #reversing number as it is string\n",
    "lst=[]\n",
    "k=0\n",
    "for i in n:\n",
    "    lst.append(i) #making a list with individual strings\n",
    "    lst[k]=int(lst[k]) #converting string into integer\n",
    "    k+=1\n",
    "sum_val=0\n",
    "for j in range(0,len(lst)):\n",
    "    sum_val+=lst[j] #sum of digits\n",
    "print('The sum of digits is =',sum_val) #printing sum"
   ]
  },
  {
   "cell_type": "markdown",
   "metadata": {},
   "source": [
    "Question 5 - Write a menu driven program to enter the number and print whether the number is :\n",
    "\n",
    "a. Odd or Even <br>\n",
    "b. Prime"
   ]
  },
  {
   "cell_type": "code",
   "execution_count": 5,
   "metadata": {},
   "outputs": [
    {
     "name": "stdout",
     "output_type": "stream",
     "text": [
      "***Welcome to Program***\n",
      "Enter value of Number - 23\n",
      "a. Odd or Even Check\n",
      "b. Prime Check\n",
      "Enter index of operation - a\n",
      "The number is odd\n",
      "Do you want to choose another operation? y/n = y\n",
      "a. Odd or Even Check\n",
      "b. Prime Check\n",
      "Enter index of operation - b\n",
      "Prime\n",
      "Do you want to choose another operation? y/n = n\n",
      "Do you want to change input? y/n = n\n",
      "***Thankyou for using***\n"
     ]
    }
   ],
   "source": [
    "#functions\n",
    "\n",
    "def odd_even(num):\n",
    "    result = 'The number is Even' if num%2==0 else 'The number is odd' #checking whether number is even or odd\n",
    "    print(result)\n",
    "\n",
    "def prime_check(num):\n",
    "    num=abs(num)                            #Taking absolute value\n",
    "    if num == 1:                            #base condition for one\n",
    "        print('Not Prime')\n",
    "    elif num==2:                            #base condition for two\n",
    "        print('Prime')\n",
    "    elif num>2:                             #conditions for numbers greater than 2\n",
    "        i=2\n",
    "        for i in range(2,num):\n",
    "            if num%i==0:\n",
    "                print('Not prime')\n",
    "                break\n",
    "            else:\n",
    "                continue\n",
    "        #print(i)\n",
    "        if i+1==num:\n",
    "            print('Prime')\n",
    "\n",
    "#calling\n",
    "\n",
    "\n",
    "ch = 'y'\n",
    "while(ch=='y' or ch=='Y'):\n",
    "    print('***Welcome to Program***')\n",
    "    num=input(\"Enter value of Number - \")\n",
    "    num=int(num)\n",
    "    ch1='y'\n",
    "    while(ch1=='y' or ch1=='Y'):\n",
    "        print('a. Odd or Even Check')\n",
    "        print('b. Prime Check')\n",
    "        op=input(\"Enter index of operation - \")\n",
    "        if op=='a' or op=='A':\n",
    "            odd_even(num)\n",
    "        elif op=='b' or op=='B':\n",
    "            prime_check(num)\n",
    "        else:\n",
    "            print('Incorrect option entered!')\n",
    "        ch1=input('Do you want to choose another operation? y/n = ')\n",
    "    ch=input('Do you want to change input? y/n = ')\n",
    "print('***Thankyou for using***')"
   ]
  },
  {
   "cell_type": "markdown",
   "metadata": {},
   "source": [
    "Question 6 - Write a program to find the maximum out of entered three numbers."
   ]
  },
  {
   "cell_type": "code",
   "execution_count": 6,
   "metadata": {},
   "outputs": [
    {
     "name": "stdout",
     "output_type": "stream",
     "text": [
      "Enter three numbers = 12 32 1\n",
      "The list is [12, 32, 1]\n",
      "The maximum number is = 32\n"
     ]
    }
   ],
   "source": [
    "inp=list(map(int,(input('Enter three numbers = ').split())))\n",
    "print('The list is',inp)\n",
    "print('The maximum number is =',max(inp))"
   ]
  },
  {
   "cell_type": "markdown",
   "metadata": {},
   "source": [
    "Question 7 - Write a program to display the ASCII code of a character and vice versa."
   ]
  },
  {
   "cell_type": "code",
   "execution_count": 7,
   "metadata": {},
   "outputs": [
    {
     "name": "stdout",
     "output_type": "stream",
     "text": [
      "Welcome to program\n",
      "Select what you want to do :- \n",
      "a. Print ASCII code from character.\n",
      "b. Print character from ASCII Code\n",
      "a\n",
      "Enter the character:-b\n",
      "98\n",
      "Do you want to choose another operation? y/n = y\n",
      "Welcome to program\n",
      "Select what you want to do :- \n",
      "a. Print ASCII code from character.\n",
      "b. Print character from ASCII Code\n",
      "b\n",
      "Enter the ASCII Code:-99\n",
      "c\n",
      "Do you want to choose another operation? y/n = n\n",
      "Thankyou\n"
     ]
    }
   ],
   "source": [
    "ch='y'\n",
    "while(ch=='y' or ch=='Y'):\n",
    "    print('Welcome to program')\n",
    "    print('Select what you want to do :- ')\n",
    "    print('a. Print ASCII code from character.')\n",
    "    print('b. Print character from ASCII Code')\n",
    "    option=input()\n",
    "    if option=='a' or option == 'A':\n",
    "        char=input('Enter the character:-')\n",
    "        print(ord(char))                           #conversion from character to ASCII code\n",
    "    elif option == 'b' or option == 'B':\n",
    "        char=int(input('Enter the ASCII Code:-'))\n",
    "        print(chr(char))                           #conversion from ASCII code to character\n",
    "    else:\n",
    "        print('Incorrect option entered!')\n",
    "    ch=input('Do you want to choose another operation? y/n = ')\n",
    "print('Thankyou')"
   ]
  },
  {
   "cell_type": "markdown",
   "metadata": {},
   "source": [
    "Question 8 - Write a program to check if the current number entered is armstrong or not."
   ]
  },
  {
   "cell_type": "code",
   "execution_count": 8,
   "metadata": {},
   "outputs": [
    {
     "name": "stdout",
     "output_type": "stream",
     "text": [
      "Enter the number = 412\n",
      "412 is not an Armstrong number\n"
     ]
    }
   ],
   "source": [
    "def armstrong(num):\n",
    "    sum = 0\n",
    "\n",
    "    # find the sum of the cube of each digit\n",
    "    temp = num\n",
    "    while temp > 0:\n",
    "       digit = temp % 10\n",
    "       sum += digit ** 3\n",
    "       temp //= 10\n",
    "\n",
    "    # display the result\n",
    "    if num == sum:\n",
    "       print(num,\"is an Armstrong number\")\n",
    "    else:\n",
    "       print(num,\"is not an Armstrong number\")\n",
    "#main\n",
    "num=int(input('Enter the number = '))\n",
    "armstrong(num)"
   ]
  },
  {
   "cell_type": "markdown",
   "metadata": {},
   "source": [
    "Question 9 - Write a Program to find factorial of the entered number using recursion."
   ]
  },
  {
   "cell_type": "code",
   "execution_count": 9,
   "metadata": {},
   "outputs": [
    {
     "name": "stdout",
     "output_type": "stream",
     "text": [
      "Enter the number = 5\n"
     ]
    },
    {
     "data": {
      "text/plain": [
       "120"
      ]
     },
     "execution_count": 9,
     "metadata": {},
     "output_type": "execute_result"
    }
   ],
   "source": [
    "def fact_recursion(num):\n",
    "    if num==1:\n",
    "        return 1\n",
    "    else:\n",
    "        return num*fact_recursion(num-1)\n",
    "#main\n",
    "num=int(input('Enter the number = '))\n",
    "fact_recursion(num)"
   ]
  },
  {
   "cell_type": "markdown",
   "metadata": {},
   "source": [
    "Question 10 - Write a Program to enter the number of terms and to print the Fibonacci Series."
   ]
  },
  {
   "cell_type": "code",
   "execution_count": 10,
   "metadata": {},
   "outputs": [
    {
     "name": "stdout",
     "output_type": "stream",
     "text": [
      "Enter the number - 9\n",
      "0 1 1 2 3 5 8 13 21 "
     ]
    }
   ],
   "source": [
    "lst=[]\n",
    "def fibo(num):\n",
    "    if num<=1:\n",
    "        return num\n",
    "    else:\n",
    "        return (fibo(num-1)+fibo(num-2))\n",
    "        \n",
    "#main\n",
    "num = int(input('Enter the number - '))\n",
    "for i in range(num):\n",
    "    print(fibo(i), end=\" \")"
   ]
  },
  {
   "cell_type": "markdown",
   "metadata": {},
   "source": [
    "Question 11 - Write a Program to enter the numbers and to print greatest number using loop."
   ]
  },
  {
   "cell_type": "code",
   "execution_count": 11,
   "metadata": {},
   "outputs": [
    {
     "name": "stdout",
     "output_type": "stream",
     "text": [
      "Enter the list using space seperators - 12\n",
      "The maximum number is 12\n"
     ]
    }
   ],
   "source": [
    "def max_num(l):\n",
    "    max_till_now = l[0]\n",
    "    for i in range(1, len(l)):\n",
    "        if l[i]>max_till_now:\n",
    "            max_till_now=l[i]\n",
    "    return max_till_now\n",
    "#main\n",
    "inp=list(input('Enter the list using space seperators - ').split())\n",
    "l=list(map(int,inp))\n",
    "print(f'The maximum number is {max_num(l)}')"
   ]
  },
  {
   "cell_type": "markdown",
   "metadata": {},
   "source": [
    "Question 12 - Write a Program to enter the string and to check if it’s palindrome or not using loop."
   ]
  },
  {
   "cell_type": "code",
   "execution_count": 12,
   "metadata": {},
   "outputs": [
    {
     "name": "stdout",
     "output_type": "stream",
     "text": [
      "Enter the string to be checked - psseddessp\n",
      "Palindrome\n"
     ]
    }
   ],
   "source": [
    "def palin_string(st):\n",
    "    stn=st[::-1]\n",
    "    count = 0\n",
    "    for j in range(len(st)):\n",
    "        if stn[j]==st[j]:\n",
    "            count+=1\n",
    "        else:\n",
    "            print('Not a palindrome')\n",
    "            break\n",
    "    if count == len(st):\n",
    "        print('Palindrome')\n",
    "st=input('Enter the string to be checked - ')\n",
    "palin_string(st)"
   ]
  },
  {
   "cell_type": "markdown",
   "metadata": {},
   "source": [
    "Question 13 - Write a Program to enter the 5 subjects numbers and print the grades A/B/C/D/E."
   ]
  },
  {
   "cell_type": "code",
   "execution_count": 13,
   "metadata": {},
   "outputs": [
    {
     "name": "stdout",
     "output_type": "stream",
     "text": [
      "Enter marks in five subjects seperated by space - 98 87 86 89 91\n",
      "The average of all marks is 90.2\n",
      "Grade is A\n"
     ]
    }
   ],
   "source": [
    "#Grade function prints the specified grade\n",
    "\n",
    "def grade(avg):\n",
    "    if avg>=90:\n",
    "        print('Grade is A')\n",
    "    elif avg>=80:\n",
    "        print('Grade is B')\n",
    "    elif avg>=70:\n",
    "        print('Grade is C')\n",
    "    elif avg>=60:\n",
    "        print('Grade is D')\n",
    "    elif avg>=50:\n",
    "        print('Grade is E')\n",
    "    else:\n",
    "        print('Marks less than 50, Student Failed')\n",
    "\n",
    "#Average function returns the average of five marks\n",
    "\n",
    "def avg_calc(l):\n",
    "    avg=0\n",
    "    for i in range(len(l)):\n",
    "        avg=avg+l[i]\n",
    "    avg=avg/len(l)\n",
    "    print(f'The average of all marks is {avg}')\n",
    "    return avg\n",
    "\n",
    "#main\n",
    "\n",
    "inp=list(map(int,(input('Enter marks in five subjects seperated by space - ').split())))\n",
    "avg=avg_calc(inp)\n",
    "grade(avg)"
   ]
  },
  {
   "cell_type": "markdown",
   "metadata": {},
   "source": [
    "Question 14 - Write a program in python language to display the given pattern:<br>\n",
    "\n",
    "                    5 \n",
    "                  4 5 \n",
    "                3 4 5 \n",
    "              2 3 4 5 \n",
    "            1 2 3 4 5 "
   ]
  },
  {
   "cell_type": "code",
   "execution_count": 14,
   "metadata": {},
   "outputs": [
    {
     "name": "stdout",
     "output_type": "stream",
     "text": [
      "            5  \n",
      "         4  5  \n",
      "      3  4  5  \n",
      "   2  3  4  5  \n",
      "1  2  3  4  5  \n"
     ]
    }
   ],
   "source": [
    "ls=list(range(1,6))\n",
    "for j in range(4,-1,-1):\n",
    "    \n",
    "    for i in range(j-1,-1,-1):\n",
    "        print('   ', end='')\n",
    "    k=j\n",
    "    while(j<=k<=4):\n",
    "        print(ls[k],' ',end='')\n",
    "        k+=1\n",
    "    print()"
   ]
  },
  {
   "cell_type": "markdown",
   "metadata": {},
   "source": [
    "Question 15 - Write a python function sin(x,n) to calculate the value of sin(x) using its Taylor series expansion\n",
    "up to n terms.\n",
    "\n",
    "\\$sin(x)$ $=$ $x - \\frac{x^3}{3!} + \\frac{x^5}{5!} - \\frac{x^7}{7!} + ...$ "
   ]
  },
  {
   "cell_type": "code",
   "execution_count": 15,
   "metadata": {},
   "outputs": [
    {
     "name": "stdout",
     "output_type": "stream",
     "text": [
      "Enter the value of x and n seperated by space - 5 9\n",
      "The value of Taylor series is 0.08963018077601603\n"
     ]
    }
   ],
   "source": [
    "import math\n",
    "\n",
    "def sin(x,n):\n",
    "    series = 0\n",
    "    for i in range(1,n+1,4):\n",
    "        series=series+(x**(i)/math.factorial(i))\n",
    "    for j in range(3,n+1,4):\n",
    "        series=series-(x**(j)/math.factorial(j))\n",
    "    return series\n",
    "\n",
    "#main\n",
    "\n",
    "x,n=input('Enter the value of x and n seperated by space - ').split()\n",
    "print(f'The value of Taylor series is {sin(int(x),int(n))}')"
   ]
  },
  {
   "cell_type": "markdown",
   "metadata": {},
   "source": [
    "Problem 16 - Write a Program to determine EOQ using various inventory models."
   ]
  },
  {
   "cell_type": "code",
   "execution_count": 16,
   "metadata": {},
   "outputs": [
    {
     "name": "stdout",
     "output_type": "stream",
     "text": [
      "Enter Annual demand, ordering cost per unit, carrying cost seperated by spaces - 1200 52 45\n",
      "The EOQ value is -  52.66244708835067\n",
      "The Total Variable cost is -  2369.81011897578\n"
     ]
    }
   ],
   "source": [
    "def EOQ_calc(ann_demand, ordering_cost_per_unit, carrying_cost):\n",
    "    eoq_value = ((2*ordering_cost_per_unit*ann_demand)/carrying_cost)**0.5\n",
    "    total_variable_cost = (2*ordering_cost_per_unit*ann_demand*carrying_cost)**0.5\n",
    "    return eoq_value, total_variable_cost\n",
    "\n",
    "#MAIN\n",
    "\n",
    "inp=list(map(float,(input('Enter Annual demand, ordering cost per unit, carrying cost seperated by spaces - ').split())))\n",
    "eoq_value, total_var_cost = EOQ_calc(inp[0],inp[1],inp[2])\n",
    "print('The EOQ value is - ', eoq_value)\n",
    "print('The Total Variable cost is - ',total_var_cost)"
   ]
  },
  {
   "cell_type": "markdown",
   "metadata": {},
   "source": [
    "Problem 17 - Write a Program to determine different characteristics using various Queueing models"
   ]
  },
  {
   "cell_type": "code",
   "execution_count": 17,
   "metadata": {},
   "outputs": [
    {
     "name": "stdout",
     "output_type": "stream",
     "text": [
      "Enter Inter-arrival rate and Service rate seperated by spaces - 10 20\n",
      "Measures of performance for M/M/1 queue are as follows: \n",
      "Traffic intensity -  0.5\n",
      "Expected number of customers in the system -  1\n",
      "Expected number of customers in the queue -  0\n",
      "Expected queue size of non-empty queue -  2\n",
      "Waiting time of the system in hr -  0.1\n",
      "Waiting time of the queue in hr -  0.05\n"
     ]
    }
   ],
   "source": [
    "def MM1(arr_rate, ser_rate):\n",
    "    rho = arr_rate/ser_rate\n",
    "    exp_no_customers_sys = (arr_rate/(ser_rate - arr_rate))\n",
    "    exp_no_customers_queue = rho**2/(1-rho)\n",
    "    exp_queue_size_non_emp_queue = 1/(1-rho)\n",
    "    waiting_time_system = exp_no_customers_sys/arr_rate\n",
    "    waiting_time_line = exp_no_customers_queue/arr_rate\n",
    "    print('Measures of performance for M/M/1 queue are as follows: ')\n",
    "    print('Traffic intensity - ', rho)\n",
    "    print('Expected number of customers in the system - ', round(exp_no_customers_sys))\n",
    "    print('Expected number of customers in the queue - ', round(exp_no_customers_queue))\n",
    "    print('Expected queue size of non-empty queue - ',round(exp_queue_size_non_emp_queue))\n",
    "    print('Waiting time of the system in hr - ',waiting_time_system)\n",
    "    print('Waiting time of the queue in hr - ',waiting_time_line)\n",
    "\n",
    "#MAIN\n",
    "inp=list(map(float,(input('Enter Inter-arrival rate and Service rate seperated by spaces - ').split())))\n",
    "MM1(inp[0],inp[1])"
   ]
  },
  {
   "cell_type": "markdown",
   "metadata": {},
   "source": [
    "Problem 18 - Write a Program to implement Inheritance. Create a class Employee inherit two classes Manager and Clerk from Employee."
   ]
  },
  {
   "cell_type": "code",
   "execution_count": 18,
   "metadata": {},
   "outputs": [
    {
     "name": "stdout",
     "output_type": "stream",
     "text": [
      "In Employee Class, The employee ID is 1\n",
      "In Manager class, The emp_id is  2  and the firstname and lastname are -  Steve Jobs\n",
      "In Clerk Class, The emp_id is  3  and the firstname and lastname are -  Warren Buffet\n"
     ]
    }
   ],
   "source": [
    "class Employee:\n",
    "    def __init__(self, emp_id):\n",
    "        self.emp_id = emp_id\n",
    "    def printemp_id(self):\n",
    "        print('In Employee Class, The employee ID is', self.emp_id)\n",
    "        \n",
    "class Manager(Employee):\n",
    "    def __init__(self,emp_id, fname, lname):\n",
    "        super().__init__(emp_id)\n",
    "        self.fname = fname\n",
    "        self.lname = lname\n",
    "    def printmanager(self):\n",
    "        print('In Manager class, The emp_id is ',self.emp_id,' and the firstname and lastname are - ',self.fname,self.lname)\n",
    "        \n",
    "class Clerk(Employee):\n",
    "    def __init__(self, emp_id,fname, lname):\n",
    "        super().__init__(emp_id)\n",
    "        self.fname = fname\n",
    "        self.lname = lname\n",
    "    def printclerk(self):\n",
    "        print('In Clerk Class, The emp_id is ',self.emp_id,' and the firstname and lastname are - ',self.fname,self.lname)\n",
    "        \n",
    "#MAIN\n",
    "\n",
    "ob1 = Employee('1')\n",
    "ob1.printemp_id()\n",
    "ob2 = Manager('2','Steve','Jobs')\n",
    "ob2.printmanager()\n",
    "ob3 = Clerk('3','Warren','Buffet')\n",
    "ob3.printclerk()"
   ]
  },
  {
   "cell_type": "markdown",
   "metadata": {},
   "source": [
    "Problem 19 - Program to fit Poisson distribution on a given data."
   ]
  },
  {
   "cell_type": "code",
   "execution_count": 19,
   "metadata": {},
   "outputs": [
    {
     "data": {
      "text/plain": [
       "[<matplotlib.lines.Line2D at 0x2446d743488>]"
      ]
     },
     "execution_count": 19,
     "metadata": {},
     "output_type": "execute_result"
    },
    {
     "data": {
      "image/png": "[encoded data removed]",
      "text/plain": [
       "<Figure size 504x360 with 1 Axes>"
      ]
     },
     "metadata": {
      "needs_background": "light"
     },
     "output_type": "display_data"
    }
   ],
   "source": [
    "import numpy as np\n",
    "from scipy.stats import norm\n",
    "import matplotlib.pyplot as plt\n",
    "\n",
    "data = np.random.normal(0, 0.5, 100000)\n",
    "mean, var  = norm.fit(data)\n",
    "x = np.linspace(-5,5,10000)\n",
    "fitted_data = norm.pdf(x, mean, var)\n",
    "plt.figure(figsize = (7,5))\n",
    "plt.hist(data, density=True)\n",
    "plt.plot(x,fitted_data,'r-')\n"
   ]
  },
  {
   "cell_type": "markdown",
   "metadata": {},
   "source": [
    "Program 20 - Write a program to implement linear regression using python."
   ]
  },
  {
   "cell_type": "code",
   "execution_count": 20,
   "metadata": {},
   "outputs": [
    {
     "name": "stdout",
     "output_type": "stream",
     "text": [
      "Slope: [[2.92754349]]\n",
      "Intercept: [2.49392672]\n",
      "Root mean squared error:  0.07456852793404224\n"
     ]
    },
    {
     "data": {
      "image/png": "[encoded data removed]",
      "text/plain": [
       "<Figure size 720x504 with 1 Axes>"
      ]
     },
     "metadata": {
      "needs_background": "light"
     },
     "output_type": "display_data"
    }
   ],
   "source": [
    "from sklearn.linear_model import LinearRegression\n",
    "from sklearn.metrics import mean_squared_error\n",
    "# generate random data-set\n",
    "np.random.seed(10)\n",
    "x = np.random.rand(100, 1)\n",
    "y = 2 + 3 * x + np.random.rand(100, 1)\n",
    "\n",
    "# Model initialization\n",
    "regression_model = LinearRegression()\n",
    "# Fit the data(train the model)\n",
    "regression_model.fit(x, y)\n",
    "# Predict\n",
    "y_predicted = regression_model.predict(x)\n",
    "\n",
    "# model evaluation\n",
    "rmse = mean_squared_error(y, y_predicted)\n",
    "\n",
    "\n",
    "# printing values\n",
    "print('Slope:' ,regression_model.coef_)\n",
    "print('Intercept:', regression_model.intercept_)\n",
    "print('Root mean squared error: ', rmse)\n",
    "# plotting values\n",
    "# data points\n",
    "plt.figure(figsize = (10,7))\n",
    "plt.scatter(x, y, s=10)\n",
    "plt.xlabel('x')\n",
    "plt.ylabel('y')\n",
    "\n",
    "# predicted values\n",
    "plt.plot(x, y_predicted, color='g')\n",
    "plt.title(\"Linear Regression\")\n",
    "plt.xlabel(\"X values\")\n",
    "plt.ylabel(\"Y values\")\n",
    "plt.show()\n"
   ]
  },
  {
   "cell_type": "markdown",
   "metadata": {},
   "source": [
    "Problem 21 - Write a program to perform read and write operation with .csv file."
   ]
  },
  {
   "cell_type": "code",
   "execution_count": 21,
   "metadata": {},
   "outputs": [
    {
     "name": "stdout",
     "output_type": "stream",
     "text": [
      "['Shreya', 'Bhatnagar', 'Subject', 'MOR']\n",
      "[]\n",
      "['Shreya', 'Bhatnagar', 'Subject', 'MOR']\n",
      "[]\n",
      "['Shreya', 'Bhatnagar', 'Subject', 'MOR']\n",
      "[]\n",
      "['Shreya', 'Bhatnagar', 'Subject', 'MOR']\n",
      "[]\n"
     ]
    }
   ],
   "source": [
    "import csv\n",
    "with open('data.csv','r+')as f:\n",
    "    data = csv.reader(f)\n",
    "    for row in data:\n",
    "        print(row)\n",
    "\n",
    "\n",
    "with open('data.csv', mode='a+') as fp:\n",
    "    writer = csv.writer(fp, delimiter=',', quotechar='\"', quoting=csv.QUOTE_MINIMAL)\n",
    "    writer.writerow(['Shreya', 'Bhatnagar', 'Subject', 'MOR'])\n"
   ]
  },
  {
   "cell_type": "markdown",
   "metadata": {},
   "source": [
    "Problem 22 - Write a Program to enter multiple values-based data in multiple columns/rows and show that data in python using DataFrames and pandas."
   ]
  },
  {
   "cell_type": "code",
   "execution_count": 22,
   "metadata": {},
   "outputs": [
    {
     "name": "stdout",
     "output_type": "stream",
     "text": [
      "[[3161 1660 9472 ... 8767 8421 9735]\n",
      " [5063 1916 9705 ... 4122 3670 1890]\n",
      " [2445 5077 4106 ... 9138 8821 4997]\n",
      " ...\n",
      " [8014 5026    6 ... 4540 4753  750]\n",
      " [5788 9587 1039 ... 5799 5667 3138]\n",
      " [ 911  803 2572 ... 5163 8560 7800]]\n",
      "<class 'numpy.ndarray'>\n",
      "    0     1     2     3     4     5     6     7     8     9    ...   990  \\\n",
      "0  3161  1660  9472  7520  6425   575  7154  5947  6686  1222  ...  5570   \n",
      "1  5063  1916  9705  5363  2824   914  1923  2373  1737   910  ...  9001   \n",
      "2  2445  5077  4106  7393  3962  3789   481  4719  7309  3943  ...    84   \n",
      "3  2825  2215   332  2867  6393  8129  1746  6353  8720   652  ...  8546   \n",
      "4  3146  5596  3823  2101  7267    86  2602  7705  2369  2558  ...  9521   \n",
      "5  6574  1100  9409  6198  8102  5286  6083  2622   721  2665  ...  1672   \n",
      "6  2609    17  7941  4455  5699   746   424  7857  3445  3687  ...  4115   \n",
      "7  8014  5026     6  5501  3382   658  5915  8488  1883  4650  ...   694   \n",
      "8  5788  9587  1039  2886  5537  6887  7691  1067  8978  1568  ...  8557   \n",
      "9   911   803  2572  3266  4948  2694  3956  3902  3851  9905  ...  6334   \n",
      "\n",
      "    991   992   993   994   995   996   997   998   999  \n",
      "0  7987   631  5913  7145  2678  9674  8767  8421  9735  \n",
      "1  2510  7611  4650  4630  3356  4613  4122  3670  1890  \n",
      "2  7629   108  4916  3298  8891  3889  9138  8821  4997  \n",
      "3   167  4914  4238   107  5060  8613  1580  2848  6292  \n",
      "4  3283  3256  5855  8142  3456  6370  4627  1261  2917  \n",
      "5     3   449  4972  3195  4681   372  3864  2738  1967  \n",
      "6  5432  9412  8052  6549  8844  3016  5292  8339  4290  \n",
      "7  6708  7785  7780  1505  6091  7455  4540  4753   750  \n",
      "8  4025  2491  3818  5474  2417  8383  5799  5667  3138  \n",
      "9  7059   289  9409  5853  1455  2776  5163  8560  7800  \n",
      "\n",
      "[10 rows x 1000 columns]\n",
      "<class 'pandas.core.frame.DataFrame'>\n"
     ]
    }
   ],
   "source": [
    "import numpy as np\n",
    "values = np.random.randint(10000, size=(10,1000))\n",
    "print(values)\n",
    "print(type(values))\n",
    "\n",
    "import pandas as pd\n",
    "values = pd.DataFrame(values)\n",
    "print(values)\n",
    "print(type(values))"
   ]
  },
  {
   "cell_type": "markdown",
   "metadata": {},
   "source": [
    "Practical 23 - WAP in python to perform various statistical measures using pandas."
   ]
  },
  {
   "cell_type": "code",
   "execution_count": 23,
   "metadata": {},
   "outputs": [
    {
     "name": "stdout",
     "output_type": "stream",
     "text": [
      "The mean of the given dataset is =  0    48.24\n",
      "dtype: float64\n",
      "The variance of the dataset is -  0    931.254949\n",
      "dtype: float64\n",
      "The skewness of the dataset is -  0    0.106628\n",
      "dtype: float64\n",
      "The curtosis of the dataset is -  0   -1.44129\n",
      "dtype: float64\n"
     ]
    },
    {
     "data": {
      "image/png": "[encoded data removed]",
      "text/plain": [
       "<Figure size 432x288 with 1 Axes>"
      ]
     },
     "metadata": {
      "needs_background": "light"
     },
     "output_type": "display_data"
    }
   ],
   "source": [
    "np.random.seed(10)\n",
    "data_set = pd.DataFrame(np.random.randint(low=0, high = 100, size = 100))\n",
    "#print(data_set)\n",
    "plt.bar(range(100),data_set[0])\n",
    "print('The mean of the given dataset is = ',data_set.mean())\n",
    "print('The variance of the dataset is - ',data_set.var())\n",
    "print('The skewness of the dataset is - ',data_set.skew())\n",
    "print('The curtosis of the dataset is - ',data_set.kurt())"
   ]
  },
  {
   "cell_type": "markdown",
   "metadata": {},
   "source": [
    "Practical 24 - Write a program to plot a bar chart in python to display the result of a school for five consecutive years."
   ]
  },
  {
   "cell_type": "code",
   "execution_count": 24,
   "metadata": {},
   "outputs": [
    {
     "data": {
      "text/plain": [
       "<BarContainer object of 5 artists>"
      ]
     },
     "execution_count": 24,
     "metadata": {},
     "output_type": "execute_result"
    },
    {
     "data": {
      "image/png": "[encoded data removed]",
      "text/plain": [
       "<Figure size 504x360 with 1 Axes>"
      ]
     },
     "metadata": {
      "needs_background": "light"
     },
     "output_type": "display_data"
    }
   ],
   "source": [
    "school_year = list(range(1,6))\n",
    "np.random.seed(10)\n",
    "school_result = np.random.randint(low = 80, high = 100, size = 5)\n",
    "plt.figure(figsize = (7,5))\n",
    "plt.xlabel('Years')\n",
    "plt.ylabel('Performance')\n",
    "plt.title('School Performance in 5 years')\n",
    "plt.bar(school_year,school_result, color = 'g')"
   ]
  },
  {
   "cell_type": "markdown",
   "metadata": {},
   "source": [
    "Practical 25 - Write a program in python to plot a graph for the function $y = {x^2}$"
   ]
  },
  {
   "cell_type": "code",
   "execution_count": 25,
   "metadata": {},
   "outputs": [
    {
     "data": {
      "text/plain": [
       "[<matplotlib.lines.Line2D at 0x24470324648>]"
      ]
     },
     "execution_count": 25,
     "metadata": {},
     "output_type": "execute_result"
    },
    {
     "data": {
      "image/png": "[encoded data removed]",
      "text/plain": [
       "<Figure size 504x360 with 1 Axes>"
      ]
     },
     "metadata": {
      "needs_background": "light"
     },
     "output_type": "display_data"
    }
   ],
   "source": [
    "x = np.random.randint(5000, size = 10000)\n",
    "y = x**2\n",
    "\n",
    "plt.figure(figsize = (7,5))\n",
    "plt.title('Graph for y = x^2')\n",
    "plt.xlabel('X-Values')\n",
    "plt.ylabel('Y-Values')\n",
    "plt.plot(x,y,'o')"
   ]
  },
  {
   "cell_type": "markdown",
   "metadata": {},
   "source": [
    "Practical 26 - Write a program in python to plot a pie chart on consumption of water in daily life."
   ]
  },
  {
   "cell_type": "code",
   "execution_count": 26,
   "metadata": {},
   "outputs": [
    {
     "data": {
      "image/png": "[encoded data removed]",
      "text/plain": [
       "<Figure size 504x360 with 1 Axes>"
      ]
     },
     "metadata": {},
     "output_type": "display_data"
    }
   ],
   "source": [
    "fig = plt.figure(figsize = (7,5))\n",
    "ax = fig.add_axes([0,0,1,1])\n",
    "ax.axis('equal')\n",
    "days = ['Sunday','Monday','Tuesday','Wednesday','Thursday','Friday','Saturday']\n",
    "consumption_in_litre = np.random.randint(low = 5, high = 20, size = 7)\n",
    "ax.pie(consumption_in_litre, labels = days,autopct='%1.2f%%')\n",
    "plt.title('Daily water consumption of a person')\n",
    "plt.show()"
   ]
  }
 ],
 "metadata": {
  "kernelspec": {
   "display_name": "Python 3",
   "language": "python",
   "name": "python3"
  },
  "language_info": {
   "codemirror_mode": {
    "name": "ipython",
    "version": 3
   },
   "file_extension": ".py",
   "mimetype": "text/x-python",
   "name": "python",
   "nbconvert_exporter": "python",
   "pygments_lexer": "ipython3",
   "version": "3.7.6"
  }
 },
 "nbformat": 4,
 "nbformat_minor": 4
}
